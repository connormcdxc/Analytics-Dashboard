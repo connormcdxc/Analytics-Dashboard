{
 "cells": [
  {
   "cell_type": "markdown",
   "metadata": {},
   "source": [
    "# Master API Test Notebook"
   ]
  },
  {
   "cell_type": "code",
   "execution_count": 14,
   "metadata": {},
   "outputs": [],
   "source": [
    "# Make sure you run this cell first\n",
    "import requests\n",
    "\n",
    "uri = \"http://18.219.89.209:5000/api/v1/header/\""
   ]
  },
  {
   "cell_type": "markdown",
   "metadata": {},
   "source": [
    "## This is a test script to test the REST API to update the table ACTOR\n",
    "\n",
    "### Input variables\n",
    "\n",
    "The required input varibales to insert a new query in the database are: \n",
    "\n",
    "actor_id = integer\n",
    "\n",
    "actor_type = character\n",
    "\n",
    "comment = character\n",
    "\n",
    "instance_id = integer\n",
    "\n",
    "\n",
    "### Return Values\n",
    "\n",
    "Incorrect Function\n",
    "\n",
    "200 - Success (Database Connected, no duplicate actor present, no required data field missing, no other technical issues)\n",
    "\n",
    "400 - Failure (reason unknown)\n",
    "\n",
    "401 - Failure (duplicate actor_id i.e actor already present in the database)\n",
    "\n",
    "402 - Failure (missing required data)\n",
    "\n",
    "Invalid Actor ID (Need an Integer as Actor ID)\n",
    "\n",
    "Invalid Instance ID (Need an Integer as Instance ID)"
   ]
  },
  {
   "cell_type": "code",
   "execution_count": 15,
   "metadata": {},
   "outputs": [
    {
     "name": "stdout",
     "output_type": "stream",
     "text": [
      "http://18.219.89.209:5000/api/v1/header/hey/1,G,Test,Test\n",
      "Incorrect Function\n"
     ]
    }
   ],
   "source": [
    "# Test for incorrect table name \n",
    "function = \"hey\"\n",
    "\n",
    "# Required data fields (NULL=NO)\n",
    "actor_id = \"1\"\n",
    "actor_type = \"G\"\n",
    "actor_name = \"Test\"\n",
    "instance_id = \"Test\"\n",
    "\n",
    "actor_details = actor_id + ',' + actor_type + ',' + actor_name + ',' + instance_id \n",
    "\n",
    "url = uri + function + '/' + actor_details\n",
    "\n",
    "\n",
    "print(url)\n",
    "status = requests.get(url)\n",
    "print(status.text)"
   ]
  },
  {
   "cell_type": "code",
   "execution_count": 16,
   "metadata": {
    "scrolled": true
   },
   "outputs": [
    {
     "name": "stdout",
     "output_type": "stream",
     "text": [
      "http://18.219.89.209:5000/api/v1/header/actors/1,G,Test,\n",
      "ERROR 402: FAILURE (Missing data field)\n"
     ]
    }
   ],
   "source": [
    "# Test for missing field\n",
    "# Any one of the required data field is empty\n",
    "function = \"actors\"\n",
    "\n",
    "# Required data fields (NULL=NO)\n",
    "actor_id = \"1\"\n",
    "actor_type = \"G\"\n",
    "actor_name = \"Test\"\n",
    "instance_id = \"\"\n",
    "\n",
    "\n",
    "actor_details = actor_id + ',' + actor_type + ',' + actor_name + ',' + instance_id \n",
    "\n",
    "\n",
    "\n",
    "url = uri + function + '/' + actor_details\n",
    "print(url)\n",
    "status = requests.get(url)\n",
    "print(status.text)"
   ]
  },
  {
   "cell_type": "code",
   "execution_count": 8,
   "metadata": {},
   "outputs": [
    {
     "name": "stdout",
     "output_type": "stream",
     "text": [
      "http://18.219.89.209:5000/api/v1/header/actors/1,G,Test,1\n",
      "ERROR 401: FAILURE (Actor ID already exists)\n"
     ]
    }
   ],
   "source": [
    "# Test for duplicate primary key (actor_id) field\n",
    "function = \"actors\"\n",
    "\n",
    "# Required data fields (NULL=NO)\n",
    "actor_id = \"1\"\n",
    "actor_type = \"G\"\n",
    "actor_name = \"Test\"\n",
    "instance_id = \"1\"\n",
    "\n",
    "\n",
    "actor_details = actor_id + ',' + actor_type + ',' + actor_name + ',' + instance_id \n",
    "\n",
    "\n",
    "\n",
    "url = uri + function + '/' + actor_details\n",
    "print(url)\n",
    "status = requests.get(url)\n",
    "print(status.text)"
   ]
  },
  {
   "cell_type": "code",
   "execution_count": 17,
   "metadata": {},
   "outputs": [
    {
     "name": "stdout",
     "output_type": "stream",
     "text": [
      "http://18.219.89.209:5000/api/v1/header/actors/hi,G,Test,1\n",
      "Need an Integer as Actor ID: invalid literal for int() with base 10: 'hi'\n"
     ]
    }
   ],
   "source": [
    "# Actor ID/Instance ID not of the correct data type\n",
    "function = \"actors\"\n",
    "\n",
    "# Required data fields (NULL=NO)\n",
    "actor_id = \"hi\"\n",
    "actor_type = \"G\"\n",
    "actor_name = \"Test\"\n",
    "instance_id = \"1\"\n",
    "\n",
    "\n",
    "actor_details = actor_id + ',' + actor_type + ',' + actor_name + ',' + instance_id \n",
    "\n",
    "\n",
    "url = uri + function + '/' + actor_details\n",
    "print(url)\n",
    "status = requests.get(url)\n",
    "print(status.text)"
   ]
  },
  {
   "cell_type": "code",
   "execution_count": 24,
   "metadata": {},
   "outputs": [
    {
     "name": "stdout",
     "output_type": "stream",
     "text": [
      "http://18.219.89.209:5000/api/v1/header/actors/31,G,Test,1\n",
      "200: SUCCESS\n"
     ]
    }
   ],
   "source": [
    "# Success\n",
    "function = \"actors\"\n",
    "\n",
    "# Required data fields (NULL=NO)\n",
    "actor_id = \"31\"\n",
    "actor_type = \"G\"\n",
    "actor_name = \"Test\"\n",
    "instance_id = \"1\"\n",
    "\n",
    "\n",
    "actor_details = actor_id + ',' + actor_type + ',' + actor_name + ',' + instance_id \n",
    "\n",
    "\n",
    "url = uri + function + '/' + actor_details\n",
    "print(url)\n",
    "status = requests.get(url)\n",
    "print(status.text)"
   ]
  },
  {
   "cell_type": "markdown",
   "metadata": {},
   "source": [
    "## This is a test script to test the REST API to update the table MESSAGES\n",
    "\n",
    "\n",
    "### Input variables\n",
    "\n",
    "The required input varibales to insert a new query in the database are: \n",
    "\n",
    "message_id = Integer\n",
    "\n",
    "message_subject = Character\n",
    "\n",
    "message_text = Character\n",
    "\n",
    "\n",
    "### Return Values\n",
    "\n",
    "200 - Success (Database Connected, no duplicate message present, no required data field missing, no other technical issues)\n",
    "\n",
    "400 - Failure (reason unknown)\n",
    "\n",
    "401 - Failure (duplicate message_id i.e message already present in the database)\n",
    "\n",
    "402 - Failure (missing required data)\n",
    "\n",
    "Invalid Message ID (Need an Integer as Message ID)\n"
   ]
  },
  {
   "cell_type": "code",
   "execution_count": 8,
   "metadata": {},
   "outputs": [
    {
     "name": "stdout",
     "output_type": "stream",
     "text": [
      "http://18.219.89.209:5000/api/v1/header/hi/1,Test,Test\n",
      "Incorrect Function\n"
     ]
    }
   ],
   "source": [
    "# Test for incorrect table name \n",
    "function = \"hi\"\n",
    "\n",
    "# Required data fields (NULL=NO)\n",
    "message_id = \"1\"\n",
    "message_subject = \"Test\"\n",
    "message_text = \"Test\"\n",
    "game_position = \"Test\"\n",
    "\n",
    "\n",
    "message_details = message_id + ',' + message_subject + ',' + message_text + ',' + game_position\n",
    "\n",
    "\n",
    "\n",
    "url = uri + function + '/' + message_details\n",
    "print(url)\n",
    "status = requests.get(url)\n",
    "print(status.text)"
   ]
  },
  {
   "cell_type": "code",
   "execution_count": 9,
   "metadata": {},
   "outputs": [
    {
     "name": "stdout",
     "output_type": "stream",
     "text": [
      "http://18.219.89.209:5000/api/v1/header/messages/1,,\n",
      "ERROR 402: FAILURE (Missing data field)\n"
     ]
    }
   ],
   "source": [
    "# Test for missing field\n",
    "# Any one of the required data field is empty\n",
    "function = \"messages\"\n",
    "\n",
    "# Required data fields (NULL=NO)\n",
    "message_id = \"1\"\n",
    "message_subject = \"\"\n",
    "message_text = \"\"\n",
    "game_position = \"Test\"\n",
    "\n",
    "\n",
    "message_details = message_id + ',' + message_subject + ',' + message_text + ',' + game_position\n",
    "\n",
    "\n",
    "\n",
    "\n",
    "url = uri + function + '/' + message_details\n",
    "print(url)\n",
    "status = requests.get(url)\n",
    "print(status.text)"
   ]
  },
  {
   "cell_type": "code",
   "execution_count": 10,
   "metadata": {},
   "outputs": [
    {
     "name": "stdout",
     "output_type": "stream",
     "text": [
      "http://18.219.89.209:5000/api/v1/header/messages/1,Test,Test\n",
      "ERROR 401: FAILURE (Message ID already exists)\n"
     ]
    }
   ],
   "source": [
    "# Test for duplicate primary key (message_id) field\n",
    "function = \"messages\"\n",
    "\n",
    "# Required data fields (NULL=NO)\n",
    "message_id = \"1\"\n",
    "message_subject = \"Test\"\n",
    "message_text = \"Test\"\n",
    "game_position = \"Test\"\n",
    "\n",
    "\n",
    "message_details = message_id + ',' + message_subject + ',' + message_text + ',' + game_position\n",
    "\n",
    "\n",
    "\n",
    "url = uri + function + '/' + message_details\n",
    "print(url)\n",
    "status = requests.get(url)\n",
    "print(status.text)"
   ]
  },
  {
   "cell_type": "code",
   "execution_count": 11,
   "metadata": {},
   "outputs": [
    {
     "name": "stdout",
     "output_type": "stream",
     "text": [
      "http://18.219.89.209:5000/api/v1/header/messages/hi,Test,Test\n",
      "Need an Integer as Message ID: invalid literal for int() with base 10: 'hi'\n"
     ]
    }
   ],
   "source": [
    "# Message ID not of the correct data type\n",
    "function = \"messages\"\n",
    "\n",
    "# Required data fields (NULL=NO)\n",
    "message_id = \"hi\"\n",
    "message_subject = \"Test\"\n",
    "message_text = \"Test\"\n",
    "game_position = \"Test\"\n",
    "\n",
    "\n",
    "message_details = message_id + ',' + message_subject + ',' + message_text + ',' + game_position\n",
    "\n",
    "\n",
    "\n",
    "\n",
    "url = uri + function + '/' + message_details\n",
    "print(url)\n",
    "status = requests.get(url)\n",
    "print(status.text)"
   ]
  },
  {
   "cell_type": "code",
   "execution_count": 26,
   "metadata": {},
   "outputs": [
    {
     "name": "stdout",
     "output_type": "stream",
     "text": [
      "http://18.219.89.209:5000/api/v1/header/messages/50,Test,Test,Test\n",
      "200: SUCCESS\n"
     ]
    }
   ],
   "source": [
    "# Success\n",
    "function = \"messages\"\n",
    "\n",
    "# Required data fields (NULL=NO)\n",
    "message_id = \"50\"\n",
    "message_subject = \"Test\"\n",
    "message_text = \"Test\"\n",
    "game_position = \"Test\"\n",
    "\n",
    "\n",
    "message_details = message_id + ',' + message_subject + ',' + message_text + ',' + game_position\n",
    "\n",
    "\n",
    "\n",
    "\n",
    "url = uri + function + '/' + message_details\n",
    "print(url)\n",
    "status = requests.get(url)\n",
    "print(status.text)"
   ]
  },
  {
   "cell_type": "markdown",
   "metadata": {},
   "source": [
    "## This is a test script to test the REST API to update the table PEOPLE\n",
    "\n",
    "\n",
    "### Input variables\n",
    "\n",
    "The required input varibales to insert a new query in the database are: \n",
    "\n",
    "person_id = Ineteger \n",
    "\n",
    "person_name = Character\n",
    "\n",
    "institution_name = Character\n",
    "\n",
    "username = Character\n",
    "\n",
    "\n",
    "### Return Values\n",
    "\n",
    "200 - Success (Database Connected, no duplicate person present, no required data field missing, no other technical issues)\n",
    "\n",
    "400 - Failure (reason unknown)\n",
    "\n",
    "401 - Failure (duplicate person_id i.e person already present in the database)\n",
    "\n",
    "402 - Failure (missing required data)\n",
    "\n",
    "Invalid Person ID (Need an Integer as Person ID)"
   ]
  },
  {
   "cell_type": "code",
   "execution_count": 14,
   "metadata": {},
   "outputs": [
    {
     "name": "stdout",
     "output_type": "stream",
     "text": [
      "http://18.219.89.209:5000/api/v1/header/hello/1,Test,Test,Test\n",
      "Incorrect Function\n"
     ]
    }
   ],
   "source": [
    "# Test for incorrect table name\n",
    "function = \"hello\"\n",
    "\n",
    "# Required data fields (NULL=NO)\n",
    "person_id = \"1\"\n",
    "person_name = \"Test\"\n",
    "institution_name = \"Test\"\n",
    "username = \"Test\"\n",
    "\n",
    "people_details = person_id + ',' + person_name + ',' + institution_name + ',' + username \n",
    "\n",
    "\n",
    "\n",
    "url = uri + function + '/' + people_details\n",
    "print(url)\n",
    "status = requests.get(url)\n",
    "print(status.text)"
   ]
  },
  {
   "cell_type": "code",
   "execution_count": 15,
   "metadata": {},
   "outputs": [
    {
     "name": "stdout",
     "output_type": "stream",
     "text": [
      "http://18.219.89.209:5000/api/v1/header/people/1,Test,Test,\n",
      "ERROR 402: FAILURE (Missing data field)\n"
     ]
    }
   ],
   "source": [
    "# Test for missing field\n",
    "function = \"people\"\n",
    "\n",
    "# Required data fields (NULL=NO)\n",
    "person_id = \"1\"\n",
    "person_name = \"Test\"\n",
    "institution_name = \"Test\"\n",
    "username = \"\"\n",
    "\n",
    "people_details = person_id + ',' + person_name + ',' + institution_name + ',' + username \n",
    "\n",
    "\n",
    "\n",
    "url = uri + function + '/' + people_details\n",
    "print(url)\n",
    "status = requests.get(url)\n",
    "print(status.text)"
   ]
  },
  {
   "cell_type": "code",
   "execution_count": 16,
   "metadata": {},
   "outputs": [
    {
     "name": "stdout",
     "output_type": "stream",
     "text": [
      "http://18.219.89.209:5000/api/v1/header/people/1,Test,Test,Test\n",
      "ERROR 401: FAILURE (Message ID already exists)\n"
     ]
    }
   ],
   "source": [
    "# Test for duplicate primary key (person_id) field\n",
    "function = \"people\"\n",
    "\n",
    "# Required data fields (NULL=NO)\n",
    "person_id = \"1\"\n",
    "person_name = \"Test\"\n",
    "institution_name = \"Test\"\n",
    "username = \"Test\"\n",
    "\n",
    "people_details = person_id + ',' + person_name + ',' + institution_name + ',' + username \n",
    "\n",
    "\n",
    "\n",
    "url = uri + function + '/' + people_details\n",
    "print(url)\n",
    "status = requests.get(url)\n",
    "print(status.text)"
   ]
  },
  {
   "cell_type": "code",
   "execution_count": 17,
   "metadata": {},
   "outputs": [
    {
     "name": "stdout",
     "output_type": "stream",
     "text": [
      "http://18.219.89.209:5000/api/v1/header/people/Hi,Test,Test,Test\n",
      "Need an Integer as Person ID: invalid literal for int() with base 10: 'Hi'\n"
     ]
    }
   ],
   "source": [
    "# Person ID not of the correct data type\n",
    "function = \"people\"\n",
    "\n",
    "# Required data fields (NULL=NO)\n",
    "person_id = \"Hi\"\n",
    "person_name = \"Test\"\n",
    "institution_name = \"Test\"\n",
    "username = \"Test\"\n",
    "\n",
    "people_details = person_id + ',' + person_name + ',' + institution_name + ',' + username \n",
    "\n",
    "\n",
    "\n",
    "url = uri + function + '/' + people_details\n",
    "print(url)\n",
    "status = requests.get(url)\n",
    "print(status.text)"
   ]
  },
  {
   "cell_type": "code",
   "execution_count": 20,
   "metadata": {},
   "outputs": [
    {
     "name": "stdout",
     "output_type": "stream",
     "text": [
      "http://18.219.89.209:5000/api/v1/header/people/1001,Test,Test,Test\n",
      "200: SUCCESS\n"
     ]
    }
   ],
   "source": [
    "# Success\n",
    "function = \"people\"\n",
    "\n",
    "# Required data fields (NULL=NO)\n",
    "person_id = \"1001\"\n",
    "person_name = \"Test\"\n",
    "institution_name = \"Test\"\n",
    "username = \"Test\"\n",
    "\n",
    "people_details = person_id + ',' + person_name + ',' + institution_name + ',' + username \n",
    "\n",
    "\n",
    "\n",
    "url = uri + function + '/' + people_details\n",
    "print(url)\n",
    "status = requests.get(url)\n",
    "print(status.text)"
   ]
  },
  {
   "cell_type": "markdown",
   "metadata": {},
   "source": [
    "## This is a test script to test the REST API to update the table GAME_INSTANCES\n",
    "\n",
    "### Input variables\n",
    "\n",
    "The required input varibales to insert a new query in the database are: \n",
    "\n",
    "instance_id = Integer\n",
    "\n",
    "term_name = Character\n",
    "\n",
    "section = Charcater\n",
    "\n",
    "course_code = Character\n",
    "\n",
    "institution_name = Character\n",
    "\n",
    "version_id = Integer\n",
    "\n",
    "\n",
    "### Return Values\n",
    "\n",
    "200 - Success (Database Connected, no duplicate game_instance present, no required data field missing, no other technical issues)\n",
    "\n",
    "400 - Failure (reason unknown)\n",
    "\n",
    "401 - Failure (duplicate instance_id i.e instance already present in the database)\n",
    "\n",
    "402 - Failure (missing required data)\n",
    "\n",
    "Invalid Instance ID (Need an Integer as Instance ID)\n",
    "\n",
    "Invalid Version ID (Need an Integer as Version ID)"
   ]
  },
  {
   "cell_type": "code",
   "execution_count": 18,
   "metadata": {},
   "outputs": [
    {
     "name": "stdout",
     "output_type": "stream",
     "text": [
      "http://18.219.89.209:5000/api/v1/header/hey/100,Test,Test,Test,Test,1\n",
      "Incorrect Function\n"
     ]
    }
   ],
   "source": [
    "# Test for incorrect table name\n",
    "function = \"hey\"\n",
    "\n",
    "\n",
    "# Required data fields (NULL=NO)\n",
    "instance_id = \"100\"\n",
    "term_name = \"Test\"\n",
    "section = \"Test\"\n",
    "course_code = \"Test\"\n",
    "institution_name = \"Test\"\n",
    "version_id = \"1\"\n",
    "\n",
    "\n",
    "details = instance_id + ',' + term_name + ',' + section + ',' + course_code + ',' + institution_name + ',' + version_id\n",
    "\n",
    "\n",
    "\n",
    "url = uri + function + '/' + details\n",
    "print(url)\n",
    "status = requests.get(url)\n",
    "print(status.text)"
   ]
  },
  {
   "cell_type": "code",
   "execution_count": 19,
   "metadata": {},
   "outputs": [
    {
     "name": "stdout",
     "output_type": "stream",
     "text": [
      "http://18.219.89.209:5000/api/v1/header/game_instances/100,Test,Test,Test,Test,\n",
      "ERROR 402: FAILURE (Missing data field)\n"
     ]
    }
   ],
   "source": [
    "# Test for missing field\n",
    "function = \"game_instances\"\n",
    "\n",
    "\n",
    "# Required data fields (NULL=NO)\n",
    "instance_id = \"100\"\n",
    "term_name = \"Test\"\n",
    "section = \"Test\"\n",
    "course_code = \"Test\"\n",
    "institution_name = \"Test\"\n",
    "version_id = \"\"\n",
    "\n",
    "\n",
    "details = instance_id + ',' + term_name + ',' + section + ',' + course_code + ',' + institution_name + ',' + version_id\n",
    "\n",
    "\n",
    "\n",
    "url = uri + function + '/' + details\n",
    "print(url)\n",
    "status = requests.get(url)\n",
    "print(status.text)"
   ]
  },
  {
   "cell_type": "code",
   "execution_count": 20,
   "metadata": {},
   "outputs": [
    {
     "name": "stdout",
     "output_type": "stream",
     "text": [
      "http://18.219.89.209:5000/api/v1/header/game_instances/100,Test,Test,Test,Test,1\n",
      "ERROR 401: FAILURE (Instance ID already exists)\n"
     ]
    }
   ],
   "source": [
    "# Test for duplicate primary key (instance_id) field\n",
    "function = \"game_instances\"\n",
    "\n",
    "\n",
    "# Required data fields (NULL=NO)\n",
    "instance_id = \"100\"\n",
    "term_name = \"Test\"\n",
    "section = \"Test\"\n",
    "course_code = \"Test\"\n",
    "institution_name = \"Test\"\n",
    "version_id = \"1\"\n",
    "\n",
    "# Not necessary to be given (NULL=YES)\n",
    "#None\n",
    "\n",
    "details = instance_id + ',' + term_name + ',' + section + ',' + course_code + ',' + institution_name + ',' + version_id\n",
    "\n",
    "\n",
    "\n",
    "url = uri + function + '/' + details\n",
    "print(url)\n",
    "status = requests.get(url)\n",
    "print(status.text)"
   ]
  },
  {
   "cell_type": "code",
   "execution_count": 21,
   "metadata": {},
   "outputs": [
    {
     "name": "stdout",
     "output_type": "stream",
     "text": [
      "http://18.219.89.209:5000/api/v1/header/game_instances/1,Test,Test,Test,Test,hi\n",
      "Need an Integer as Version ID: invalid literal for int() with base 10: 'hi'\n"
     ]
    }
   ],
   "source": [
    "# Instance ID/Version ID not of the correct data type\n",
    "function = \"game_instances\"\n",
    "\n",
    "\n",
    "# Required data fields (NULL=NO)\n",
    "instance_id = \"1\"\n",
    "term_name = \"Test\"\n",
    "section = \"Test\"\n",
    "course_code = \"Test\"\n",
    "institution_name = \"Test\"\n",
    "version_id = \"hi\"\n",
    "\n",
    "\n",
    "details = instance_id + ',' + term_name + ',' + section + ',' + course_code + ',' + institution_name + ',' + version_id\n",
    "\n",
    "\n",
    "\n",
    "url = uri + function + '/' + details\n",
    "print(url)\n",
    "status = requests.get(url)\n",
    "print(status.text)"
   ]
  },
  {
   "cell_type": "code",
   "execution_count": 28,
   "metadata": {},
   "outputs": [
    {
     "name": "stdout",
     "output_type": "stream",
     "text": [
      "http://18.219.89.209:5000/api/v1/header/game_instances/1001,Test,Test,Test,Test,1\n",
      "200: SUCCESS\n"
     ]
    }
   ],
   "source": [
    "# Success\n",
    "function = \"game_instances\"\n",
    "\n",
    "\n",
    "# Required data fields (NULL=NO)\n",
    "instance_id = \"1001\"\n",
    "term_name = \"Test\"\n",
    "section = \"Test\"\n",
    "course_code = \"Test\"\n",
    "institution_name = \"Test\"\n",
    "version_id = \"1\"\n",
    "\n",
    "\n",
    "\n",
    "details = instance_id + ',' + term_name + ',' + section + ',' + course_code + ',' + institution_name + ',' + version_id\n",
    "\n",
    "\n",
    "\n",
    "url = uri + function + '/' + details\n",
    "print(url)\n",
    "status = requests.get(url)\n",
    "print(status.text)"
   ]
  },
  {
   "cell_type": "markdown",
   "metadata": {},
   "source": [
    "## This is a test script to test the REST API to update the table MESSAGE_ACTIONS\n",
    "\n",
    "\n",
    "### Input variables\n",
    "\n",
    "The required input varibales to insert a new query in the database are: \n",
    "\n",
    "message_action_id = Integer\n",
    "\n",
    "type = Character\n",
    "\n",
    "action_time = Integer\n",
    "\n",
    "message_id = Integer\n",
    "\n",
    "actor_id = Integer\n",
    "\n",
    "\n",
    "### Return Values\n",
    "\n",
    "200 - Success (Database Connected, no duplicate message_action present, no required data field missing, no other technical issues)\n",
    "\n",
    "400 - Failure (reason unknown)\n",
    "\n",
    "401 - Failure (duplicate message_action_id i.e message_action already present in the database)\n",
    "\n",
    "402 - Failure (missing required data)\n",
    "\n",
    "Invalid Message Action ID (Need an Integer as Message Action ID)\n",
    "\n",
    "Invalid Action Time (Need an Integer as Action Time)\n",
    "\n",
    "Invalid Message ID (Need an Integer as Message ID)\n",
    "\n",
    "Invalid Actor ID (Need an Integer as Actor ID)"
   ]
  },
  {
   "cell_type": "code",
   "execution_count": 22,
   "metadata": {},
   "outputs": [
    {
     "name": "stdout",
     "output_type": "stream",
     "text": [
      "http://18.219.89.209:5000/api/v1/header/hi/1,Test,1,1,1\n",
      "Incorrect Function\n"
     ]
    }
   ],
   "source": [
    "# Test for incorrect table name\n",
    "function = \"hi\"\n",
    "\n",
    "# Required data fields (NULL=NO)\n",
    "message_action_id = \"1\"\n",
    "action_type = \"Test\"\n",
    "action_time = \"1\"\n",
    "message_id = \"1\"\n",
    "actor_id = \"1\"\n",
    "game_posiiton = \"Test\"\n",
    "\n",
    "details = message_action_id + ',' + action_type + ',' + action_time + ',' + message_id+ ',' + actor_id + ',' + game_posiiton \n",
    "\n",
    "\n",
    "url = uri + function + '/' + details\n",
    "print(url)\n",
    "status = requests.get(url)\n",
    "print(status.text)"
   ]
  },
  {
   "cell_type": "code",
   "execution_count": 23,
   "metadata": {},
   "outputs": [
    {
     "name": "stdout",
     "output_type": "stream",
     "text": [
      "http://18.219.89.209:5000/api/v1/header/message_actions/100,Test,,1,1\n",
      "ERROR 402: FAILURE (Missing data field)\n"
     ]
    }
   ],
   "source": [
    "# Test for missing field\n",
    "function = \"message_actions\"\n",
    "\n",
    "# Required data fields (NULL=NO)\n",
    "message_action_id = \"100\"\n",
    "action_type = \"Test\"\n",
    "action_time = \"\"\n",
    "message_id = \"1\"\n",
    "actor_id = \"1\"\n",
    "game_posiiton = \"Test\"\n",
    "\n",
    "details = message_action_id + ',' + action_type + ',' + action_time + ',' + message_id+ ',' + actor_id + ',' + game_posiiton \n",
    "\n",
    "\n",
    "\n",
    "\n",
    "\n",
    "url = uri + function + '/' + details\n",
    "print(url)\n",
    "status = requests.get(url)\n",
    "print(status.text)"
   ]
  },
  {
   "cell_type": "code",
   "execution_count": 24,
   "metadata": {},
   "outputs": [
    {
     "name": "stdout",
     "output_type": "stream",
     "text": [
      "http://18.219.89.209:5000/api/v1/header/message_actions/1,Test,1,1,1\n",
      "ERROR 401: FAILURE (Message ID already exists)\n"
     ]
    }
   ],
   "source": [
    "# Test for duplicate primary key (message_action_id) field\n",
    "function = \"message_actions\"\n",
    "\n",
    "# Required data fields (NULL=NO)\n",
    "message_action_id = \"1\"\n",
    "action_type = \"Test\"\n",
    "action_time = \"1\"\n",
    "message_id = \"1\"\n",
    "actor_id = \"1\"\n",
    "game_posiiton = \"Test\"\n",
    "\n",
    "details = message_action_id + ',' + action_type + ',' + action_time + ',' + message_id+ ',' + actor_id + ',' + game_posiiton \n",
    "\n",
    "\n",
    "\n",
    "url = uri + function + '/' + details\n",
    "print(url)\n",
    "status = requests.get(url)\n",
    "print(status.text)"
   ]
  },
  {
   "cell_type": "code",
   "execution_count": 25,
   "metadata": {},
   "outputs": [
    {
     "name": "stdout",
     "output_type": "stream",
     "text": [
      "http://18.219.89.209:5000/api/v1/header/message_actions/1,Test,1,1,hi\n",
      "Need an Integer as Actor ID: invalid literal for int() with base 10: 'hi'\n"
     ]
    }
   ],
   "source": [
    "# Message Action ID/Action Time/Message ID/Actor ID not of the correct data type\n",
    "function = \"message_actions\"\n",
    "\n",
    "# Required data fields (NULL=NO)\n",
    "message_action_id = \"1\"\n",
    "action_type = \"Test\"\n",
    "action_time = \"1\"\n",
    "message_id = \"1\"\n",
    "actor_id = \"hi\"\n",
    "game_posiiton = \"Test\"\n",
    "\n",
    "details = message_action_id + ',' + action_type + ',' + action_time + ',' + message_id+ ',' + actor_id + ',' + game_posiiton \n",
    "\n",
    "\n",
    "url = uri + function + '/' + details\n",
    "print(url)\n",
    "status = requests.get(url)\n",
    "print(status.text)"
   ]
  },
  {
   "cell_type": "code",
   "execution_count": 38,
   "metadata": {},
   "outputs": [
    {
     "name": "stdout",
     "output_type": "stream",
     "text": [
      "http://18.219.89.209:5000/api/v1/header/message_actions/1032,Test,1,1,1\n",
      "200: SUCCESS\n"
     ]
    }
   ],
   "source": [
    "# Success\n",
    "function = \"message_actions\"\n",
    "\n",
    "# Required data fields (NULL=NO)\n",
    "message_action_id = \"1032\"\n",
    "action_type = \"Test\"\n",
    "action_time = \"1\"\n",
    "message_id = \"1\"\n",
    "actor_id = \"1\"\n",
    "\n",
    "\n",
    "details = message_action_id + ',' + action_type + ',' + action_time + ',' + message_id+ ',' + actor_id \n",
    "\n",
    "\n",
    "\n",
    "url = uri + function + '/' + details\n",
    "print(url)\n",
    "status = requests.get(url)\n",
    "print(status.text)"
   ]
  },
  {
   "cell_type": "markdown",
   "metadata": {},
   "source": [
    "## This is a test script to test the REST API to update the table GAME_VERSIONS\n",
    "\n",
    "\n",
    "### Input variables\n",
    "\n",
    "The required input varibales to insert a new query in the database are: \n",
    "\n",
    "version_id = Integer\n",
    "\n",
    "version_name = Character\n",
    "\n",
    "### Return Values\n",
    "\n",
    "200 - Success (Database Connected, no duplicate game_version present, no required data field missing, no other technical issues)\n",
    "\n",
    "400 - Failure (reason unknown)\n",
    "\n",
    "401 - Failure (duplicate version_id i.e version_id already present in the database)\n",
    "\n",
    "402 - Failure (missing required data)\n",
    "\n",
    "Invalid Version ID (Need an Integer as Version ID)\n"
   ]
  },
  {
   "cell_type": "code",
   "execution_count": 26,
   "metadata": {},
   "outputs": [
    {
     "name": "stdout",
     "output_type": "stream",
     "text": [
      "http://18.219.89.209:5000/api/v1/header/hi/1,Test\n",
      "Incorrect Function\n"
     ]
    }
   ],
   "source": [
    "# Test for incorrect table name\n",
    "function = \"hi\"\n",
    "\n",
    "# Required data fields (NULL=NO)\n",
    "version_id = \"1\"\n",
    "version_name = \"Test\"\n",
    "\n",
    "\n",
    "details = version_id + ',' + version_name \n",
    "\n",
    "\n",
    "\n",
    "url = uri + function + '/' + details\n",
    "print(url)\n",
    "status = requests.get(url)\n",
    "print(status.text)"
   ]
  },
  {
   "cell_type": "code",
   "execution_count": 27,
   "metadata": {},
   "outputs": [
    {
     "name": "stdout",
     "output_type": "stream",
     "text": [
      "http://18.219.89.209:5000/api/v1/header/game_versions/1,\n",
      "ERROR 402: FAILURE (Missing data field)\n"
     ]
    }
   ],
   "source": [
    "# Test for missing field\n",
    "function = \"game_versions\"\n",
    "\n",
    "# Required data fields (NULL=NO)\n",
    "version_id = \"1\"\n",
    "version_name = \"\"\n",
    "\n",
    "\n",
    "details = version_id + ',' + version_name \n",
    "\n",
    "\n",
    "\n",
    "url = uri + function + '/' + details\n",
    "print(url)\n",
    "status = requests.get(url)\n",
    "print(status.text)"
   ]
  },
  {
   "cell_type": "code",
   "execution_count": 28,
   "metadata": {},
   "outputs": [
    {
     "name": "stdout",
     "output_type": "stream",
     "text": [
      "http://18.219.89.209:5000/api/v1/header/game_versions/1,Test\n",
      "ERROR 401: FAILURE (Instance ID already exists)\n"
     ]
    }
   ],
   "source": [
    "# Test for duplicate primary key (message_action_id) field\n",
    "function = \"game_versions\"\n",
    "\n",
    "# Required data fields (NULL=NO)\n",
    "version_id = \"1\"\n",
    "version_name = \"Test\"\n",
    "\n",
    "\n",
    "details = version_id + ',' + version_name \n",
    "\n",
    "\n",
    "\n",
    "url = uri + function + '/' + details\n",
    "print(url)\n",
    "status = requests.get(url)\n",
    "print(status.text)"
   ]
  },
  {
   "cell_type": "code",
   "execution_count": 29,
   "metadata": {},
   "outputs": [
    {
     "name": "stdout",
     "output_type": "stream",
     "text": [
      "http://18.219.89.209:5000/api/v1/header/game_versions/hi,Test\n",
      "Need an Integer as Version ID: invalid literal for int() with base 10: 'hi'\n"
     ]
    }
   ],
   "source": [
    "# Version ID not of the correct data type\n",
    "function = \"game_versions\"\n",
    "\n",
    "# Required data fields (NULL=NO)\n",
    "version_id = \"hi\"\n",
    "version_name = \"Test\"\n",
    "\n",
    "\n",
    "details = version_id + ',' + version_name \n",
    "\n",
    "\n",
    "\n",
    "url = uri + function + '/' + details\n",
    "print(url)\n",
    "status = requests.get(url)\n",
    "print(status.text)"
   ]
  },
  {
   "cell_type": "code",
   "execution_count": 45,
   "metadata": {},
   "outputs": [
    {
     "name": "stdout",
     "output_type": "stream",
     "text": [
      "http://18.219.89.209:5000/api/v1/header/game_versions/1001,Test\n",
      "200: SUCCESS\n"
     ]
    }
   ],
   "source": [
    "# Success\n",
    "function = \"game_versions\"\n",
    "\n",
    "# Required data fields (NULL=NO)\n",
    "version_id = \"1001\"\n",
    "version_name = \"Test\"\n",
    "\n",
    "\n",
    "details = version_id + ',' + version_name \n",
    "\n",
    "\n",
    "\n",
    "url = uri + function + '/' + details\n",
    "print(url)\n",
    "status = requests.get(url)\n",
    "print(status.text)"
   ]
  },
  {
   "cell_type": "markdown",
   "metadata": {},
   "source": [
    "## This is a test script to test the REST API to update the table ROLE_TYPES\n",
    "\n",
    "\n",
    "### Input variables\n",
    "\n",
    "The required input varibales to insert a new query in the database are: \n",
    "\n",
    "role_type_id = Integer\n",
    "\n",
    "role_type = Character\n",
    "\n",
    "version_id = Integer\n",
    "\n",
    "\n",
    "### Return Values\n",
    "\n",
    "200 - Success (Database Connected, no duplicate role_type_id present, no required data field missing, no other technical issues)\n",
    "\n",
    "400 - Failure (reason unknown)\n",
    "\n",
    "401 - Failure (duplicate role_type_id i.e role_type_id already present in the database)\n",
    "\n",
    "402 - Failure (missing required data)\n",
    "\n",
    "Invalid Role Type ID (Need an Integer as Role Type ID)\n",
    "\n",
    "Invalid Version ID (Need an Integer as Version ID)\n"
   ]
  },
  {
   "cell_type": "code",
   "execution_count": 30,
   "metadata": {},
   "outputs": [
    {
     "name": "stdout",
     "output_type": "stream",
     "text": [
      "http://18.219.89.209:5000/api/v1/header/hi/1,Test,1\n",
      "Incorrect Function\n"
     ]
    }
   ],
   "source": [
    "# Test for incorrect table name\n",
    "function = \"hi\"\n",
    "\n",
    "# Required data fields (NULL=NO)\n",
    "role_type_id = \"1\"\n",
    "role_type = \"Test\"\n",
    "version_id = \"1\"\n",
    "\n",
    "\n",
    "details = role_type_id + ',' + role_type + ',' + version_id \n",
    "\n",
    "\n",
    "\n",
    "url = uri + function + '/' + details\n",
    "print(url)\n",
    "status = requests.get(url)\n",
    "print(status.text)"
   ]
  },
  {
   "cell_type": "code",
   "execution_count": 31,
   "metadata": {},
   "outputs": [
    {
     "name": "stdout",
     "output_type": "stream",
     "text": [
      "http://18.219.89.209:5000/api/v1/header/role_types/1,,1\n",
      "ERROR 402: FAILURE (Missing data field)\n"
     ]
    }
   ],
   "source": [
    "# Test for missing field\n",
    "function = \"role_types\"\n",
    "\n",
    "# Required data fields (NULL=NO)\n",
    "role_type_id = \"1\"\n",
    "role_type = \"\"\n",
    "version_id = \"1\"\n",
    "\n",
    "\n",
    "details = role_type_id + ',' + role_type + ',' + version_id \n",
    "\n",
    "\n",
    "\n",
    "url = uri + function + '/' + details\n",
    "print(url)\n",
    "status = requests.get(url)\n",
    "print(status.text)"
   ]
  },
  {
   "cell_type": "code",
   "execution_count": 32,
   "metadata": {},
   "outputs": [
    {
     "name": "stdout",
     "output_type": "stream",
     "text": [
      "http://18.219.89.209:5000/api/v1/header/role_types/1,Test,1\n",
      "ERROR 401: FAILURE (Instance ID already exists)\n"
     ]
    }
   ],
   "source": [
    "# Test for duplicate primary key (message_action_id) field\n",
    "function = \"role_types\"\n",
    "\n",
    "# Required data fields (NULL=NO)\n",
    "role_type_id = \"1\"\n",
    "role_type = \"Test\"\n",
    "version_id = \"1\"\n",
    "\n",
    "\n",
    "details = role_type_id + ',' + role_type + ',' + version_id \n",
    "\n",
    "\n",
    "\n",
    "url = uri + function + '/' + details\n",
    "print(url)\n",
    "status = requests.get(url)\n",
    "print(status.text)"
   ]
  },
  {
   "cell_type": "code",
   "execution_count": 33,
   "metadata": {},
   "outputs": [
    {
     "name": "stdout",
     "output_type": "stream",
     "text": [
      "http://18.219.89.209:5000/api/v1/header/role_types/hi,Test,1\n",
      "Need an Integer as Role Type ID: invalid literal for int() with base 10: 'hi'\n"
     ]
    }
   ],
   "source": [
    "# Role Type ID/Version ID not of the correct data type\n",
    "function = \"role_types\"\n",
    "\n",
    "# Required data fields (NULL=NO)\n",
    "role_type_id = \"hi\"\n",
    "role_type = \"Test\"\n",
    "version_id = \"1\"\n",
    "\n",
    "\n",
    "details = role_type_id + ',' + role_type + ',' + version_id \n",
    "\n",
    "\n",
    "\n",
    "url = uri + function + '/' + details\n",
    "print(url)\n",
    "status = requests.get(url)\n",
    "print(status.text)"
   ]
  },
  {
   "cell_type": "code",
   "execution_count": 52,
   "metadata": {},
   "outputs": [
    {
     "name": "stdout",
     "output_type": "stream",
     "text": [
      "http://18.219.89.209:5000/api/v1/header/role_types/1001,Test,1\n",
      "200: SUCCESS\n"
     ]
    }
   ],
   "source": [
    "# Success\n",
    "function = \"role_types\"\n",
    "\n",
    "# Required data fields (NULL=NO)\n",
    "role_type_id = \"1001\"\n",
    "role_type = \"Test\"\n",
    "version_id = \"1\"\n",
    "\n",
    "\n",
    "details = role_type_id + ',' + role_type + ',' + version_id \n",
    "\n",
    "\n",
    "\n",
    "url = uri + function + '/' + details\n",
    "print(url)\n",
    "status = requests.get(url)\n",
    "print(status.text)"
   ]
  },
  {
   "cell_type": "markdown",
   "metadata": {},
   "source": [
    "## This is a test script to test the REST API to update the table GROUPINGS\n",
    "\n",
    "### Input variables\n",
    "\n",
    "The required input varibales to insert a new query in the database are: \n",
    "\n",
    "grouping_id = Integer\n",
    "\n",
    "actor_id = Integer\n",
    "\n",
    "team_id = Integer\n",
    "\n",
    "\n",
    "### Return Values\n",
    "\n",
    "Incorrect Function\n",
    "\n",
    "200 - Success (Database Connected, no duplicate grouping_id present, no required data field missing, no other technical issues)\n",
    "\n",
    "400 - Failure (reason unknown)\n",
    "\n",
    "401 - Failure (duplicate grouping_id i.e grouping_id already present in the database)\n",
    "\n",
    "402 - Failure (missing required data)\n",
    "\n",
    "Invalid Grouping ID (Need an Integer as Goruping ID)\n",
    "\n",
    "Invalid Actor ID (Need an Integer as Actor ID)\n",
    "\n",
    "Invalid Team ID (Need an Integer as Team ID)"
   ]
  },
  {
   "cell_type": "code",
   "execution_count": 34,
   "metadata": {},
   "outputs": [
    {
     "name": "stdout",
     "output_type": "stream",
     "text": [
      "http://18.219.89.209:5000/api/v1/header/hi/1,Test,1\n",
      "Incorrect Function\n"
     ]
    }
   ],
   "source": [
    "# Test for incorrect table name\n",
    "function = \"hi\"\n",
    "\n",
    "# Required data fields (NULL=NO)\n",
    "grouping_id = \"1\"\n",
    "actor_id = \"Test\"\n",
    "team_id = \"1\"\n",
    "\n",
    "details = grouping_id + ',' + actor_id + ',' + team_id \n",
    "\n",
    "\n",
    "\n",
    "url = uri + function + '/' + details\n",
    "print(url)\n",
    "status = requests.get(url)\n",
    "print(status.text)"
   ]
  },
  {
   "cell_type": "code",
   "execution_count": 35,
   "metadata": {},
   "outputs": [
    {
     "name": "stdout",
     "output_type": "stream",
     "text": [
      "http://18.219.89.209:5000/api/v1/header/groupings/1,Test,\n",
      "ERROR 402: FAILURE (Missing data field)\n"
     ]
    }
   ],
   "source": [
    "# Test for missing field\n",
    "function = \"groupings\"\n",
    "\n",
    "# Required data fields (NULL=NO)\n",
    "grouping_id = \"1\"\n",
    "actor_id = \"Test\"\n",
    "team_id = \"\"\n",
    "\n",
    "details = grouping_id + ',' + actor_id + ',' + team_id \n",
    "\n",
    "url = uri + function + '/' + details\n",
    "print(url)\n",
    "status = requests.get(url)\n",
    "print(status.text)"
   ]
  },
  {
   "cell_type": "code",
   "execution_count": 36,
   "metadata": {},
   "outputs": [
    {
     "name": "stdout",
     "output_type": "stream",
     "text": [
      "http://18.219.89.209:5000/api/v1/header/groupings/1,1,1\n",
      "ERROR 401: FAILURE (Instance ID already exists)\n"
     ]
    }
   ],
   "source": [
    "# Test for duplicate primary key (message_action_id) field\n",
    "function = \"groupings\"\n",
    "\n",
    "# Required data fields (NULL=NO)\n",
    "grouping_id = \"1\"\n",
    "actor_id = \"1\"\n",
    "team_id = \"1\"\n",
    "\n",
    "details = grouping_id + ',' + actor_id + ',' + team_id \n",
    "\n",
    "\n",
    "\n",
    "url = uri + function + '/' + details\n",
    "print(url)\n",
    "status = requests.get(url)\n",
    "print(status.text)"
   ]
  },
  {
   "cell_type": "code",
   "execution_count": 37,
   "metadata": {},
   "outputs": [
    {
     "name": "stdout",
     "output_type": "stream",
     "text": [
      "http://18.219.89.209:5000/api/v1/header/groupings/hi,1,1\n",
      "Need an Integer as Grouping ID: invalid literal for int() with base 10: 'hi'\n"
     ]
    }
   ],
   "source": [
    "# Grouping ID/Actor ID/Team ID not of the correct data type\n",
    "function = \"groupings\"\n",
    "\n",
    "# Required data fields (NULL=NO)\n",
    "grouping_id = \"hi\"\n",
    "actor_id = \"1\"\n",
    "team_id = \"1\"\n",
    "\n",
    "details = grouping_id + ',' + actor_id + ',' + team_id \n",
    "\n",
    "\n",
    "\n",
    "url = uri + function + '/' + details\n",
    "print(url)\n",
    "status = requests.get(url)\n",
    "print(status.text)"
   ]
  },
  {
   "cell_type": "code",
   "execution_count": 38,
   "metadata": {},
   "outputs": [
    {
     "name": "stdout",
     "output_type": "stream",
     "text": [
      "http://18.219.89.209:5000/api/v1/header/groupings/1001,1,1\n",
      "ERROR 401: FAILURE (Instance ID already exists)\n"
     ]
    }
   ],
   "source": [
    "# Success\n",
    "function = \"groupings\"\n",
    "\n",
    "# Required data fields (NULL=NO)\n",
    "grouping_id = \"1001\"\n",
    "actor_id = \"1\"\n",
    "team_id = \"1\"\n",
    "\n",
    "details = grouping_id + ',' + actor_id + ',' + team_id \n",
    "\n",
    "\n",
    "\n",
    "url = uri + function + '/' + details\n",
    "print(url)\n",
    "status = requests.get(url)\n",
    "print(status.text)"
   ]
  }
 ],
 "metadata": {
  "kernelspec": {
   "display_name": "Python 3",
   "language": "python",
   "name": "python3"
  },
  "language_info": {
   "codemirror_mode": {
    "name": "ipython",
    "version": 3
   },
   "file_extension": ".py",
   "mimetype": "text/x-python",
   "name": "python",
   "nbconvert_exporter": "python",
   "pygments_lexer": "ipython3",
   "version": "3.6.9"
  }
 },
 "nbformat": 4,
 "nbformat_minor": 2
}
